{
 "cells": [
  {
   "cell_type": "markdown",
   "metadata": {},
   "source": [
    "## Observations and Insights \n",
    "\n",
    "1. Based on bar graph,The Number of Mice For Each Drug Regimen, we can see the drug regimen Capomuline and Ramicane were used more frequently throughout the study compared to the other drug regimens.\n",
    "2. Based on the gender pie graph we can see there was a fair distribution of both male and female mice throughout the study.\n",
    "3.Based on the drug regimen Capomuline we can see there is a coorelation between the weight and tumor volume, the greater the weight of the mouse the more likely they are to have a higher tumor volume.\n"
   ]
  },
  {
   "cell_type": "markdown",
   "metadata": {},
   "source": []
  },
  {
   "cell_type": "code",
   "execution_count": 6,
   "metadata": {},
   "outputs": [
    {
     "data": {
      "text/html": [
       "<div>\n",
       "<style scoped>\n",
       "    .dataframe tbody tr th:only-of-type {\n",
       "        vertical-align: middle;\n",
       "    }\n",
       "\n",
       "    .dataframe tbody tr th {\n",
       "        vertical-align: top;\n",
       "    }\n",
       "\n",
       "    .dataframe thead th {\n",
       "        text-align: right;\n",
       "    }\n",
       "</style>\n",
       "<table border=\"1\" class=\"dataframe\">\n",
       "  <thead>\n",
       "    <tr style=\"text-align: right;\">\n",
       "      <th></th>\n",
       "      <th>Mouse ID</th>\n",
       "      <th>Drug Regimen</th>\n",
       "      <th>Sex</th>\n",
       "      <th>Age_months</th>\n",
       "      <th>Weight (g)</th>\n",
       "      <th>Timepoint</th>\n",
       "      <th>Tumor Volume (mm3)</th>\n",
       "      <th>Metastatic Sites</th>\n",
       "    </tr>\n",
       "  </thead>\n",
       "  <tbody>\n",
       "    <tr>\n",
       "      <th>0</th>\n",
       "      <td>k403</td>\n",
       "      <td>Ramicane</td>\n",
       "      <td>Male</td>\n",
       "      <td>21</td>\n",
       "      <td>16</td>\n",
       "      <td>0</td>\n",
       "      <td>45.000000</td>\n",
       "      <td>0</td>\n",
       "    </tr>\n",
       "    <tr>\n",
       "      <th>1</th>\n",
       "      <td>k403</td>\n",
       "      <td>Ramicane</td>\n",
       "      <td>Male</td>\n",
       "      <td>21</td>\n",
       "      <td>16</td>\n",
       "      <td>5</td>\n",
       "      <td>38.825898</td>\n",
       "      <td>0</td>\n",
       "    </tr>\n",
       "    <tr>\n",
       "      <th>2</th>\n",
       "      <td>k403</td>\n",
       "      <td>Ramicane</td>\n",
       "      <td>Male</td>\n",
       "      <td>21</td>\n",
       "      <td>16</td>\n",
       "      <td>10</td>\n",
       "      <td>35.014271</td>\n",
       "      <td>1</td>\n",
       "    </tr>\n",
       "    <tr>\n",
       "      <th>3</th>\n",
       "      <td>k403</td>\n",
       "      <td>Ramicane</td>\n",
       "      <td>Male</td>\n",
       "      <td>21</td>\n",
       "      <td>16</td>\n",
       "      <td>15</td>\n",
       "      <td>34.223992</td>\n",
       "      <td>1</td>\n",
       "    </tr>\n",
       "    <tr>\n",
       "      <th>4</th>\n",
       "      <td>k403</td>\n",
       "      <td>Ramicane</td>\n",
       "      <td>Male</td>\n",
       "      <td>21</td>\n",
       "      <td>16</td>\n",
       "      <td>20</td>\n",
       "      <td>32.997729</td>\n",
       "      <td>1</td>\n",
       "    </tr>\n",
       "  </tbody>\n",
       "</table>\n",
       "</div>"
      ],
      "text/plain": [
       "  Mouse ID Drug Regimen   Sex  Age_months  Weight (g)  Timepoint  \\\n",
       "0     k403     Ramicane  Male          21          16          0   \n",
       "1     k403     Ramicane  Male          21          16          5   \n",
       "2     k403     Ramicane  Male          21          16         10   \n",
       "3     k403     Ramicane  Male          21          16         15   \n",
       "4     k403     Ramicane  Male          21          16         20   \n",
       "\n",
       "   Tumor Volume (mm3)  Metastatic Sites  \n",
       "0           45.000000                 0  \n",
       "1           38.825898                 0  \n",
       "2           35.014271                 1  \n",
       "3           34.223992                 1  \n",
       "4           32.997729                 1  "
      ]
     },
     "execution_count": 6,
     "metadata": {},
     "output_type": "execute_result"
    }
   ],
   "source": [
    "# Dependencies and Setup\n",
    "import matplotlib.pyplot as plt\n",
    "import pandas as pd\n",
    "import scipy.stats as st\n",
    "from scipy.stats import linregress\n",
    "import numpy as np\n",
    "\n",
    "# Study data files\n",
    "mouse_metadata_path = \"C:/Users/jenni/Desktop/Matplotlib-Challenge/Data/Mouse_metadata.csv\"\n",
    "study_results_path = \"C:/Users/jenni/Desktop/Matplotlib-Challenge/Data/Study_results.csv\"\n",
    "\n",
    "# Read the mouse data and the study results\n",
    "mouse_metadata = pd.read_csv(mouse_metadata_path)\n",
    "study_results = pd.read_csv(study_results_path)\n",
    "\n",
    "# Combine the data into a single dataset\n",
    "combined_data_df=mouse_metadata.merge(study_results, on=\"Mouse ID\")\n",
    "combined_data_df.head()"
   ]
  },
  {
   "cell_type": "code",
   "execution_count": 7,
   "metadata": {},
   "outputs": [
    {
     "name": "stdout",
     "output_type": "stream",
     "text": [
      "<class 'pandas.core.frame.DataFrame'>\n",
      "Int64Index: 1893 entries, 0 to 1892\n",
      "Data columns (total 8 columns):\n",
      " #   Column              Non-Null Count  Dtype  \n",
      "---  ------              --------------  -----  \n",
      " 0   Mouse ID            1893 non-null   object \n",
      " 1   Drug Regimen        1893 non-null   object \n",
      " 2   Sex                 1893 non-null   object \n",
      " 3   Age_months          1893 non-null   int64  \n",
      " 4   Weight (g)          1893 non-null   int64  \n",
      " 5   Timepoint           1893 non-null   int64  \n",
      " 6   Tumor Volume (mm3)  1893 non-null   float64\n",
      " 7   Metastatic Sites    1893 non-null   int64  \n",
      "dtypes: float64(1), int64(4), object(3)\n",
      "memory usage: 133.1+ KB\n"
     ]
    }
   ],
   "source": [
    "combined_data_df.info()"
   ]
  },
  {
   "cell_type": "code",
   "execution_count": 8,
   "metadata": {},
   "outputs": [
    {
     "data": {
      "text/plain": [
       "g989    13\n",
       "l661    10\n",
       "b128    10\n",
       "s508    10\n",
       "c264    10\n",
       "        ..\n",
       "h428     1\n",
       "l872     1\n",
       "u153     1\n",
       "f932     1\n",
       "t573     1\n",
       "Name: Mouse ID, Length: 249, dtype: int64"
      ]
     },
     "execution_count": 8,
     "metadata": {},
     "output_type": "execute_result"
    }
   ],
   "source": [
    "# Checking the number of mice in the DataFrame by Mouse ID.\n",
    "combined_data_df[\"Mouse ID\"].value_counts()"
   ]
  },
  {
   "cell_type": "code",
   "execution_count": 9,
   "metadata": {},
   "outputs": [
    {
     "data": {
      "text/plain": [
       "249"
      ]
     },
     "execution_count": 9,
     "metadata": {},
     "output_type": "execute_result"
    }
   ],
   "source": [
    "# Checking the number of mice in the DataFrame\n",
    "combined_data_df[\"Mouse ID\"].nunique()"
   ]
  },
  {
   "cell_type": "code",
   "execution_count": 10,
   "metadata": {},
   "outputs": [
    {
     "data": {
      "text/html": [
       "<div>\n",
       "<style scoped>\n",
       "    .dataframe tbody tr th:only-of-type {\n",
       "        vertical-align: middle;\n",
       "    }\n",
       "\n",
       "    .dataframe tbody tr th {\n",
       "        vertical-align: top;\n",
       "    }\n",
       "\n",
       "    .dataframe thead th {\n",
       "        text-align: right;\n",
       "    }\n",
       "</style>\n",
       "<table border=\"1\" class=\"dataframe\">\n",
       "  <thead>\n",
       "    <tr style=\"text-align: right;\">\n",
       "      <th></th>\n",
       "      <th>Mouse ID</th>\n",
       "      <th>Drug Regimen</th>\n",
       "      <th>Sex</th>\n",
       "      <th>Age_months</th>\n",
       "      <th>Weight (g)</th>\n",
       "      <th>Timepoint</th>\n",
       "      <th>Tumor Volume (mm3)</th>\n",
       "      <th>Metastatic Sites</th>\n",
       "    </tr>\n",
       "  </thead>\n",
       "  <tbody>\n",
       "    <tr>\n",
       "      <th>909</th>\n",
       "      <td>g989</td>\n",
       "      <td>Propriva</td>\n",
       "      <td>Female</td>\n",
       "      <td>21</td>\n",
       "      <td>26</td>\n",
       "      <td>0</td>\n",
       "      <td>45.0</td>\n",
       "      <td>0</td>\n",
       "    </tr>\n",
       "  </tbody>\n",
       "</table>\n",
       "</div>"
      ],
      "text/plain": [
       "    Mouse ID Drug Regimen     Sex  Age_months  Weight (g)  Timepoint  \\\n",
       "909     g989     Propriva  Female          21          26          0   \n",
       "\n",
       "     Tumor Volume (mm3)  Metastatic Sites  \n",
       "909                45.0                 0  "
      ]
     },
     "execution_count": 10,
     "metadata": {},
     "output_type": "execute_result"
    }
   ],
   "source": [
    "# Getting the duplicate mice by ID number that shows up for Mouse ID and Timepoint.\n",
    "# Optional: Get all the data for the duplicate mouse ID. \n",
    "duplicate_data_df=combined_data_df[combined_data_df.duplicated()]\n",
    "                  \n",
    "duplicate_data_df"
   ]
  },
  {
   "cell_type": "code",
   "execution_count": 11,
   "metadata": {},
   "outputs": [
    {
     "data": {
      "text/html": [
       "<div>\n",
       "<style scoped>\n",
       "    .dataframe tbody tr th:only-of-type {\n",
       "        vertical-align: middle;\n",
       "    }\n",
       "\n",
       "    .dataframe tbody tr th {\n",
       "        vertical-align: top;\n",
       "    }\n",
       "\n",
       "    .dataframe thead th {\n",
       "        text-align: right;\n",
       "    }\n",
       "</style>\n",
       "<table border=\"1\" class=\"dataframe\">\n",
       "  <thead>\n",
       "    <tr style=\"text-align: right;\">\n",
       "      <th></th>\n",
       "      <th>Mouse ID</th>\n",
       "      <th>Drug Regimen</th>\n",
       "      <th>Sex</th>\n",
       "      <th>Age_months</th>\n",
       "      <th>Weight (g)</th>\n",
       "      <th>Timepoint</th>\n",
       "      <th>Tumor Volume (mm3)</th>\n",
       "      <th>Metastatic Sites</th>\n",
       "    </tr>\n",
       "  </thead>\n",
       "  <tbody>\n",
       "    <tr>\n",
       "      <th>0</th>\n",
       "      <td>k403</td>\n",
       "      <td>Ramicane</td>\n",
       "      <td>Male</td>\n",
       "      <td>21</td>\n",
       "      <td>16</td>\n",
       "      <td>0</td>\n",
       "      <td>45.000000</td>\n",
       "      <td>0</td>\n",
       "    </tr>\n",
       "    <tr>\n",
       "      <th>1</th>\n",
       "      <td>k403</td>\n",
       "      <td>Ramicane</td>\n",
       "      <td>Male</td>\n",
       "      <td>21</td>\n",
       "      <td>16</td>\n",
       "      <td>5</td>\n",
       "      <td>38.825898</td>\n",
       "      <td>0</td>\n",
       "    </tr>\n",
       "    <tr>\n",
       "      <th>2</th>\n",
       "      <td>k403</td>\n",
       "      <td>Ramicane</td>\n",
       "      <td>Male</td>\n",
       "      <td>21</td>\n",
       "      <td>16</td>\n",
       "      <td>10</td>\n",
       "      <td>35.014271</td>\n",
       "      <td>1</td>\n",
       "    </tr>\n",
       "    <tr>\n",
       "      <th>3</th>\n",
       "      <td>k403</td>\n",
       "      <td>Ramicane</td>\n",
       "      <td>Male</td>\n",
       "      <td>21</td>\n",
       "      <td>16</td>\n",
       "      <td>15</td>\n",
       "      <td>34.223992</td>\n",
       "      <td>1</td>\n",
       "    </tr>\n",
       "    <tr>\n",
       "      <th>4</th>\n",
       "      <td>k403</td>\n",
       "      <td>Ramicane</td>\n",
       "      <td>Male</td>\n",
       "      <td>21</td>\n",
       "      <td>16</td>\n",
       "      <td>20</td>\n",
       "      <td>32.997729</td>\n",
       "      <td>1</td>\n",
       "    </tr>\n",
       "  </tbody>\n",
       "</table>\n",
       "</div>"
      ],
      "text/plain": [
       "  Mouse ID Drug Regimen   Sex  Age_months  Weight (g)  Timepoint  \\\n",
       "0     k403     Ramicane  Male          21          16          0   \n",
       "1     k403     Ramicane  Male          21          16          5   \n",
       "2     k403     Ramicane  Male          21          16         10   \n",
       "3     k403     Ramicane  Male          21          16         15   \n",
       "4     k403     Ramicane  Male          21          16         20   \n",
       "\n",
       "   Tumor Volume (mm3)  Metastatic Sites  \n",
       "0           45.000000                 0  \n",
       "1           38.825898                 0  \n",
       "2           35.014271                 1  \n",
       "3           34.223992                 1  \n",
       "4           32.997729                 1  "
      ]
     },
     "execution_count": 11,
     "metadata": {},
     "output_type": "execute_result"
    }
   ],
   "source": [
    "# Create a clean DataFrame by dropping the duplicate mouse by its ID.\n",
    "duplicate_data_df=combined_data_df.set_index('Mouse ID')\n",
    "clean_data_df=duplicate_data_df.drop(index='g989')\n",
    "clean_data2_df=clean_data_df.reset_index()\n",
    "clean_data2_df.head()"
   ]
  },
  {
   "cell_type": "code",
   "execution_count": 12,
   "metadata": {},
   "outputs": [
    {
     "data": {
      "text/plain": [
       "248"
      ]
     },
     "execution_count": 12,
     "metadata": {},
     "output_type": "execute_result"
    }
   ],
   "source": [
    "# Checking the number of mice in the clean DataFrame. \n",
    "# We had 1 duplicate \n",
    "clean_data2_df[\"Mouse ID\"].nunique()"
   ]
  },
  {
   "cell_type": "code",
   "execution_count": 13,
   "metadata": {},
   "outputs": [
    {
     "name": "stdout",
     "output_type": "stream",
     "text": [
      "<class 'pandas.core.frame.DataFrame'>\n",
      "RangeIndex: 1880 entries, 0 to 1879\n",
      "Data columns (total 8 columns):\n",
      " #   Column              Non-Null Count  Dtype  \n",
      "---  ------              --------------  -----  \n",
      " 0   Mouse ID            1880 non-null   object \n",
      " 1   Drug Regimen        1880 non-null   object \n",
      " 2   Sex                 1880 non-null   object \n",
      " 3   Age_months          1880 non-null   int64  \n",
      " 4   Weight (g)          1880 non-null   int64  \n",
      " 5   Timepoint           1880 non-null   int64  \n",
      " 6   Tumor Volume (mm3)  1880 non-null   float64\n",
      " 7   Metastatic Sites    1880 non-null   int64  \n",
      "dtypes: float64(1), int64(4), object(3)\n",
      "memory usage: 117.6+ KB\n"
     ]
    }
   ],
   "source": [
    "clean_data2_df.info()"
   ]
  },
  {
   "cell_type": "markdown",
   "metadata": {},
   "source": [
    "## Summary Statistics"
   ]
  },
  {
   "cell_type": "code",
   "execution_count": 14,
   "metadata": {},
   "outputs": [
    {
     "data": {
      "text/html": [
       "<div>\n",
       "<style scoped>\n",
       "    .dataframe tbody tr th:only-of-type {\n",
       "        vertical-align: middle;\n",
       "    }\n",
       "\n",
       "    .dataframe tbody tr th {\n",
       "        vertical-align: top;\n",
       "    }\n",
       "\n",
       "    .dataframe thead th {\n",
       "        text-align: right;\n",
       "    }\n",
       "</style>\n",
       "<table border=\"1\" class=\"dataframe\">\n",
       "  <thead>\n",
       "    <tr style=\"text-align: right;\">\n",
       "      <th></th>\n",
       "      <th>Tumor Vol Mean</th>\n",
       "      <th>Tumor Vol Median</th>\n",
       "      <th>Tumor Vol Variance</th>\n",
       "      <th>Tumor Vol Standard Deviation</th>\n",
       "      <th>Tumor Vol SEM</th>\n",
       "    </tr>\n",
       "    <tr>\n",
       "      <th>Drug Regimen</th>\n",
       "      <th></th>\n",
       "      <th></th>\n",
       "      <th></th>\n",
       "      <th></th>\n",
       "      <th></th>\n",
       "    </tr>\n",
       "  </thead>\n",
       "  <tbody>\n",
       "    <tr>\n",
       "      <th>Ketapril</th>\n",
       "      <td>55.24</td>\n",
       "      <td>53.70</td>\n",
       "      <td>68.55</td>\n",
       "      <td>8.28</td>\n",
       "      <td>0.60</td>\n",
       "    </tr>\n",
       "    <tr>\n",
       "      <th>Naftisol</th>\n",
       "      <td>54.33</td>\n",
       "      <td>52.51</td>\n",
       "      <td>66.17</td>\n",
       "      <td>8.13</td>\n",
       "      <td>0.60</td>\n",
       "    </tr>\n",
       "    <tr>\n",
       "      <th>Stelasyn</th>\n",
       "      <td>54.23</td>\n",
       "      <td>52.43</td>\n",
       "      <td>59.45</td>\n",
       "      <td>7.71</td>\n",
       "      <td>0.57</td>\n",
       "    </tr>\n",
       "    <tr>\n",
       "      <th>Placebo</th>\n",
       "      <td>54.03</td>\n",
       "      <td>52.29</td>\n",
       "      <td>61.17</td>\n",
       "      <td>7.82</td>\n",
       "      <td>0.58</td>\n",
       "    </tr>\n",
       "    <tr>\n",
       "      <th>Zoniferol</th>\n",
       "      <td>53.24</td>\n",
       "      <td>51.82</td>\n",
       "      <td>48.53</td>\n",
       "      <td>6.97</td>\n",
       "      <td>0.52</td>\n",
       "    </tr>\n",
       "    <tr>\n",
       "      <th>Infubinol</th>\n",
       "      <td>52.88</td>\n",
       "      <td>51.82</td>\n",
       "      <td>43.13</td>\n",
       "      <td>6.57</td>\n",
       "      <td>0.49</td>\n",
       "    </tr>\n",
       "    <tr>\n",
       "      <th>Ceftamin</th>\n",
       "      <td>52.59</td>\n",
       "      <td>51.78</td>\n",
       "      <td>39.29</td>\n",
       "      <td>6.27</td>\n",
       "      <td>0.47</td>\n",
       "    </tr>\n",
       "    <tr>\n",
       "      <th>Propriva</th>\n",
       "      <td>52.32</td>\n",
       "      <td>50.45</td>\n",
       "      <td>43.85</td>\n",
       "      <td>6.62</td>\n",
       "      <td>0.54</td>\n",
       "    </tr>\n",
       "    <tr>\n",
       "      <th>Capomulin</th>\n",
       "      <td>40.68</td>\n",
       "      <td>41.56</td>\n",
       "      <td>24.95</td>\n",
       "      <td>4.99</td>\n",
       "      <td>0.33</td>\n",
       "    </tr>\n",
       "    <tr>\n",
       "      <th>Ramicane</th>\n",
       "      <td>40.22</td>\n",
       "      <td>40.67</td>\n",
       "      <td>23.49</td>\n",
       "      <td>4.85</td>\n",
       "      <td>0.32</td>\n",
       "    </tr>\n",
       "  </tbody>\n",
       "</table>\n",
       "</div>"
      ],
      "text/plain": [
       "              Tumor Vol Mean  Tumor Vol Median  Tumor Vol Variance  \\\n",
       "Drug Regimen                                                         \n",
       "Ketapril               55.24             53.70               68.55   \n",
       "Naftisol               54.33             52.51               66.17   \n",
       "Stelasyn               54.23             52.43               59.45   \n",
       "Placebo                54.03             52.29               61.17   \n",
       "Zoniferol              53.24             51.82               48.53   \n",
       "Infubinol              52.88             51.82               43.13   \n",
       "Ceftamin               52.59             51.78               39.29   \n",
       "Propriva               52.32             50.45               43.85   \n",
       "Capomulin              40.68             41.56               24.95   \n",
       "Ramicane               40.22             40.67               23.49   \n",
       "\n",
       "              Tumor Vol Standard Deviation  Tumor Vol SEM  \n",
       "Drug Regimen                                               \n",
       "Ketapril                              8.28           0.60  \n",
       "Naftisol                              8.13           0.60  \n",
       "Stelasyn                              7.71           0.57  \n",
       "Placebo                               7.82           0.58  \n",
       "Zoniferol                             6.97           0.52  \n",
       "Infubinol                             6.57           0.49  \n",
       "Ceftamin                              6.27           0.47  \n",
       "Propriva                              6.62           0.54  \n",
       "Capomulin                             4.99           0.33  \n",
       "Ramicane                              4.85           0.32  "
      ]
     },
     "execution_count": 14,
     "metadata": {},
     "output_type": "execute_result"
    }
   ],
   "source": [
    "# Generate a summary statistics table of mean, median, variance, standard deviation, \n",
    "# and SEM of the tumor volume for each drug regimen\n",
    "grouped_drug_regimen=clean_data2_df.groupby(['Drug Regimen'])\n",
    "mean_tumor_volume=grouped_drug_regimen['Tumor Volume (mm3)'].mean()\n",
    "median_tumor_volume=grouped_drug_regimen['Tumor Volume (mm3)'].median()\n",
    "var_tumor_volume=grouped_drug_regimen['Tumor Volume (mm3)'].var()\n",
    "std_tumor_volume=grouped_drug_regimen['Tumor Volume (mm3)'].std()\n",
    "sem_tumor_volume=grouped_drug_regimen['Tumor Volume (mm3)'].sem()\n",
    "\n",
    "summary_table=pd.DataFrame({\"Tumor Vol Mean\":mean_tumor_volume,\n",
    "                           \"Tumor Vol Median\":median_tumor_volume,\n",
    "                           \"Tumor Vol Variance\":var_tumor_volume,\n",
    "                           \"Tumor Vol Standard Deviation\":std_tumor_volume,\n",
    "                           \"Tumor Vol SEM\":sem_tumor_volume}).round(2).sort_values(['Tumor Vol Mean'],ascending=False)\n",
    "summary_table\n",
    "\n",
    "# This method is the most straighforward, creating multiple series and putting them all together at the end."
   ]
  },
  {
   "cell_type": "markdown",
   "metadata": {},
   "source": [
    "## Bar Plots"
   ]
  },
  {
   "cell_type": "code",
   "execution_count": 15,
   "metadata": {},
   "outputs": [
    {
     "data": {
      "image/png": "[encoded data removed]",
      "text/plain": [
       "<Figure size 432x288 with 1 Axes>"
      ]
     },
     "metadata": {
      "needs_background": "light"
     },
     "output_type": "display_data"
    }
   ],
   "source": [
    "# Generate a bar plot showing the number of mice per time point for each treatment throughout the course of the \n",
    "#study using pandas. \n",
    "grouped_drug_regimen=clean_data2_df.groupby(['Drug Regimen'])\n",
    "\n",
    "drug_count=pd.DataFrame(grouped_drug_regimen['Drug Regimen'].count())\n",
    "count_graph=drug_count.plot(kind='bar',color=\"firebrick\",rot=45)\n",
    "\n",
    "count_graph.set_ylabel('Count',size=15)\n",
    "count_graph.set_xlabel('Drug Regimen',size=15)\n",
    "count_graph.set_title(\"Number of Mice For Each Drug Regimen (Pandas)\",size=15)\n",
    "\n",
    "plt.show()"
   ]
  },
  {
   "cell_type": "code",
   "execution_count": 16,
   "metadata": {},
   "outputs": [
    {
     "data": {
      "image/png": "[encoded data removed]",
      "text/plain": [
       "<Figure size 432x288 with 1 Axes>"
      ]
     },
     "metadata": {
      "needs_background": "light"
     },
     "output_type": "display_data"
    }
   ],
   "source": [
    "# Generate a bar plot showing the number of mice per time point for each treatment throughout the course of the \n",
    "#study using pyplot.\n",
    "x_axis=np.arange(len(drug_count))\n",
    "tick_locations=[value for value in x_axis]\n",
    "plt.bar(x_axis,drug_count['Drug Regimen'],color=\"firebrick\")\n",
    "\n",
    "plt.xticks(tick_locations,list(drug_count.index),rotation=45)\n",
    "\n",
    "plt.xlabel('Drug Regimen',size=15)\n",
    "plt.ylabel('Count',size=15)\n",
    "plt.title('Number of Mice For Each Drug Regimen (Matplotlib)',size=15)\n",
    "\n",
    "plt.xlim(-0.75,len(x_axis)-0.25)\n",
    "plt.ylim(0,max(drug_count['Drug Regimen'])+10)\n",
    "\n",
    "legend_name=['Drug Regimen']\n",
    "\n",
    "plt.legend(legend_name,loc=\"best\")\n",
    "\n",
    "plt.show()"
   ]
  },
  {
   "cell_type": "markdown",
   "metadata": {},
   "source": [
    "## Pie Plots"
   ]
  },
  {
   "cell_type": "code",
   "execution_count": 17,
   "metadata": {},
   "outputs": [
    {
     "data": {
      "text/html": [
       "<div>\n",
       "<style scoped>\n",
       "    .dataframe tbody tr th:only-of-type {\n",
       "        vertical-align: middle;\n",
       "    }\n",
       "\n",
       "    .dataframe tbody tr th {\n",
       "        vertical-align: top;\n",
       "    }\n",
       "\n",
       "    .dataframe thead th {\n",
       "        text-align: right;\n",
       "    }\n",
       "</style>\n",
       "<table border=\"1\" class=\"dataframe\">\n",
       "  <thead>\n",
       "    <tr style=\"text-align: right;\">\n",
       "      <th></th>\n",
       "      <th>Sex</th>\n",
       "    </tr>\n",
       "    <tr>\n",
       "      <th>Sex</th>\n",
       "      <th></th>\n",
       "    </tr>\n",
       "  </thead>\n",
       "  <tbody>\n",
       "    <tr>\n",
       "      <th>Female</th>\n",
       "      <td>922</td>\n",
       "    </tr>\n",
       "    <tr>\n",
       "      <th>Male</th>\n",
       "      <td>958</td>\n",
       "    </tr>\n",
       "  </tbody>\n",
       "</table>\n",
       "</div>"
      ],
      "text/plain": [
       "        Sex\n",
       "Sex        \n",
       "Female  922\n",
       "Male    958"
      ]
     },
     "execution_count": 17,
     "metadata": {},
     "output_type": "execute_result"
    }
   ],
   "source": [
    "#create data drame by mice gender\n",
    "gender_group=clean_data2_df.groupby('Sex')\n",
    "gender_group_df=pd.DataFrame(gender_group['Sex'].count())\n",
    "\n",
    "gender_group_df"
   ]
  },
  {
   "cell_type": "code",
   "execution_count": 18,
   "metadata": {},
   "outputs": [
    {
     "data": {
      "image/png": "[encoded data removed]",
      "text/plain": [
       "<Figure size 432x288 with 1 Axes>"
      ]
     },
     "metadata": {},
     "output_type": "display_data"
    }
   ],
   "source": [
    "# Generate a pie plot showing the distribution of female versus male mice using pandas\n",
    "# genders=gender_group_df[[\"Sex\"]]\n",
    "colors=[\"magenta\",\"deepskyblue\"]\n",
    "gender_group_df.plot(kind=\"pie\",y=\"Sex\",colors=colors,autopct='%1.1f%%',shadow=True,legend=False,startangle=140,title=\"Distribution of Female vs Male Mice (Pandas)\")\n",
    "\n",
    "\n",
    "\n",
    "plt.show()"
   ]
  },
  {
   "cell_type": "code",
   "execution_count": 19,
   "metadata": {},
   "outputs": [
    {
     "data": {
      "image/png": "[encoded data removed]",
      "text/plain": [
       "<Figure size 432x288 with 1 Axes>"
      ]
     },
     "metadata": {},
     "output_type": "display_data"
    }
   ],
   "source": [
    "# Generate a pie plot showing the distribution of female versus male mice using pyplot\n",
    "label=list(gender_group_df.index.values)\n",
    "gender_count=gender_group_df['Sex']\n",
    "\n",
    "colors=[\"magenta\",\"deepskyblue\"]\n",
    "\n",
    "plt.pie(gender_count,labels=label,colors=colors,autopct=\"%1.1f%%\",shadow=True,startangle=140)\n",
    "plt.ylabel(\"Sex\")\n",
    "plt.title(\"Distribution of Female vs Male Mice (Matplotlib)\")\n",
    "plt.show()"
   ]
  },
  {
   "cell_type": "markdown",
   "metadata": {},
   "source": [
    "## Quartiles, Outliers and Boxplots"
   ]
  },
  {
   "cell_type": "code",
   "execution_count": 20,
   "metadata": {},
   "outputs": [
    {
     "data": {
      "text/html": [
       "<div>\n",
       "<style scoped>\n",
       "    .dataframe tbody tr th:only-of-type {\n",
       "        vertical-align: middle;\n",
       "    }\n",
       "\n",
       "    .dataframe tbody tr th {\n",
       "        vertical-align: top;\n",
       "    }\n",
       "\n",
       "    .dataframe thead th {\n",
       "        text-align: right;\n",
       "    }\n",
       "</style>\n",
       "<table border=\"1\" class=\"dataframe\">\n",
       "  <thead>\n",
       "    <tr style=\"text-align: right;\">\n",
       "      <th></th>\n",
       "      <th>Mouse ID</th>\n",
       "      <th>Timepoint</th>\n",
       "      <th>Drug Regimen</th>\n",
       "      <th>Sex</th>\n",
       "      <th>Age_months</th>\n",
       "      <th>Weight (g)</th>\n",
       "      <th>Tumor Volume (mm3)</th>\n",
       "      <th>Metastatic Sites</th>\n",
       "    </tr>\n",
       "  </thead>\n",
       "  <tbody>\n",
       "    <tr>\n",
       "      <th>0</th>\n",
       "      <td>b128</td>\n",
       "      <td>45</td>\n",
       "      <td>Capomulin</td>\n",
       "      <td>Female</td>\n",
       "      <td>9</td>\n",
       "      <td>22</td>\n",
       "      <td>38.982878</td>\n",
       "      <td>2</td>\n",
       "    </tr>\n",
       "    <tr>\n",
       "      <th>1</th>\n",
       "      <td>b742</td>\n",
       "      <td>45</td>\n",
       "      <td>Capomulin</td>\n",
       "      <td>Male</td>\n",
       "      <td>7</td>\n",
       "      <td>21</td>\n",
       "      <td>38.939633</td>\n",
       "      <td>0</td>\n",
       "    </tr>\n",
       "    <tr>\n",
       "      <th>2</th>\n",
       "      <td>f966</td>\n",
       "      <td>20</td>\n",
       "      <td>Capomulin</td>\n",
       "      <td>Male</td>\n",
       "      <td>16</td>\n",
       "      <td>17</td>\n",
       "      <td>30.485985</td>\n",
       "      <td>0</td>\n",
       "    </tr>\n",
       "    <tr>\n",
       "      <th>3</th>\n",
       "      <td>g288</td>\n",
       "      <td>45</td>\n",
       "      <td>Capomulin</td>\n",
       "      <td>Male</td>\n",
       "      <td>3</td>\n",
       "      <td>19</td>\n",
       "      <td>37.074024</td>\n",
       "      <td>1</td>\n",
       "    </tr>\n",
       "    <tr>\n",
       "      <th>4</th>\n",
       "      <td>g316</td>\n",
       "      <td>45</td>\n",
       "      <td>Capomulin</td>\n",
       "      <td>Female</td>\n",
       "      <td>22</td>\n",
       "      <td>22</td>\n",
       "      <td>40.159220</td>\n",
       "      <td>2</td>\n",
       "    </tr>\n",
       "  </tbody>\n",
       "</table>\n",
       "</div>"
      ],
      "text/plain": [
       "  Mouse ID  Timepoint Drug Regimen     Sex  Age_months  Weight (g)  \\\n",
       "0     b128         45    Capomulin  Female           9          22   \n",
       "1     b742         45    Capomulin    Male           7          21   \n",
       "2     f966         20    Capomulin    Male          16          17   \n",
       "3     g288         45    Capomulin    Male           3          19   \n",
       "4     g316         45    Capomulin  Female          22          22   \n",
       "\n",
       "   Tumor Volume (mm3)  Metastatic Sites  \n",
       "0           38.982878                 2  \n",
       "1           38.939633                 0  \n",
       "2           30.485985                 0  \n",
       "3           37.074024                 1  \n",
       "4           40.159220                 2  "
      ]
     },
     "execution_count": 20,
     "metadata": {},
     "output_type": "execute_result"
    }
   ],
   "source": [
    "# Calculate the final tumor volume of each mouse across four of the most promising treatment regimens.\n",
    "capomulin_df=clean_data2_df.loc[clean_data2_df['Drug Regimen']==\"Capomulin\",:]\n",
    "ramicane_df=clean_data2_df.loc[clean_data2_df['Drug Regimen']==\"Ramicane\", :]\n",
    "infubinol_df=clean_data2_df.loc[clean_data2_df['Drug Regimen']==\"Infubinol\",:]\n",
    "ceftamin_df=clean_data2_df.loc[clean_data2_df['Drug Regimen']==\"Ceftamin\",:]\n",
    "\n",
    "#capomulin\n",
    "capomulin_final=capomulin_df.groupby('Mouse ID').max()['Timepoint']\n",
    "capomulin_vol=pd.DataFrame(capomulin_final)\n",
    "capomulin_merge=pd.merge(capomulin_vol, clean_data2_df, on=(\"Mouse ID\",\"Timepoint\"),how=\"left\")\n",
    "capomulin_merge.head()\n"
   ]
  },
  {
   "cell_type": "code",
   "execution_count": 21,
   "metadata": {},
   "outputs": [
    {
     "name": "stdout",
     "output_type": "stream",
     "text": [
      "The lower quartile of Capomulin is: 32.38\n",
      "The upper quartile of Capomulin is: 40.16\n",
      "The interquartile range of Capomulin is: 7.78\n",
      "Values below 20.7 could be outliers for Capomulin\n",
      "Values above 51.83 could be outliers for Capomulin\n"
     ]
    }
   ],
   "source": [
    "#Calculate the IQR and quantitatively determine if there are any potential outliers.\n",
    "capomulin_TV=capomulin_merge['Tumor Volume (mm3)']\n",
    "\n",
    "quartiles=capomulin_TV.quantile([.25,.5,.75])\n",
    "lowerq=quartiles[0.25]\n",
    "upperq=quartiles[0.75]\n",
    "iqr=upperq-lowerq\n",
    "\n",
    "print(f\"The lower quartile of Capomulin is: {lowerq.round(2)}\")\n",
    "print(f\"The upper quartile of Capomulin is: {upperq.round(2)}\")\n",
    "print(f\"The interquartile range of Capomulin is: {iqr.round(2)}\")\n",
    "\n",
    "#potential outlier calculations\n",
    "lower_bound=lowerq-(1.5*iqr)\n",
    "upper_bound=upperq+(1.5*iqr)\n",
    "\n",
    "print(f\"Values below {lower_bound.round(2)} could be outliers for Capomulin\")\n",
    "print(f\"Values above {upper_bound.round(2)} could be outliers for Capomulin\")"
   ]
  },
  {
   "cell_type": "code",
   "execution_count": 22,
   "metadata": {},
   "outputs": [
    {
     "name": "stdout",
     "output_type": "stream",
     "text": [
      "The lower quartile of Ramicane is: 31.56\n",
      "The upper quartile of Ramicane is: 40.66\n",
      "The interquartile range of Ramicane is: 9.1\n",
      "Values below 17.91 could be outliers for Ramicane\n",
      "Values above 54.31 could be outliers for Ramicane\n"
     ]
    }
   ],
   "source": [
    "#ramicane\n",
    "ramicane_final=ramicane_df.groupby('Mouse ID').max()['Timepoint']\n",
    "ramicane_vol=pd.DataFrame(ramicane_final)\n",
    "ramicane_merge=pd.merge(ramicane_vol, clean_data2_df, on=(\"Mouse ID\",\"Timepoint\"),how=\"left\")\n",
    "ramicane_merge.head()\n",
    "\n",
    "#Calculate the IQR and quantitatively determine if there are any potential outliers.\n",
    "ramicane_TV=ramicane_merge['Tumor Volume (mm3)']\n",
    "\n",
    "quartiles=ramicane_TV.quantile([.25,.5,.75])\n",
    "lowerq=quartiles[0.25]\n",
    "upperq=quartiles[0.75]\n",
    "iqr=upperq-lowerq\n",
    "\n",
    "print(f\"The lower quartile of Ramicane is: {lowerq.round(2)}\")\n",
    "print(f\"The upper quartile of Ramicane is: {upperq.round(2)}\")\n",
    "print(f\"The interquartile range of Ramicane is: {iqr.round(2)}\")\n",
    "\n",
    "#potential outlier calculations\n",
    "lower_bound=lowerq-(1.5*iqr)\n",
    "upper_bound=upperq+(1.5*iqr)\n",
    "\n",
    "print(f\"Values below {lower_bound.round(2)} could be outliers for Ramicane\")\n",
    "print(f\"Values above {upper_bound.round(2)} could be outliers for Ramicane\")"
   ]
  },
  {
   "cell_type": "code",
   "execution_count": 23,
   "metadata": {},
   "outputs": [
    {
     "name": "stdout",
     "output_type": "stream",
     "text": [
      "The lower quartile of Infubinol is: 54.05\n",
      "The upper quartile of Infubinol is: 65.53\n",
      "The interquartile range of Infubinol is: 11.48\n",
      "Values below 36.83 could be outliers for Infubinol\n",
      "Values above 82.74 could be outliers for Infubinol\n"
     ]
    }
   ],
   "source": [
    "#infubinol\n",
    "infubinol_final=infubinol_df.groupby('Mouse ID').max()['Timepoint']\n",
    "infubinol_vol=pd.DataFrame(infubinol_final)\n",
    "infubinol_merge=pd.merge(infubinol_vol, clean_data2_df, on=(\"Mouse ID\",\"Timepoint\"),how=\"left\")\n",
    "infubinol_merge.head()\n",
    "\n",
    "#Calculate the IQR and quantitatively determine if there are any potential outliers.\n",
    "infubinol_TV=infubinol_merge['Tumor Volume (mm3)']\n",
    "\n",
    "quartiles=infubinol_TV.quantile([.25,.5,.75])\n",
    "lowerq=quartiles[0.25]\n",
    "upperq=quartiles[0.75]\n",
    "iqr=upperq-lowerq\n",
    "\n",
    "print(f\"The lower quartile of Infubinol is: {lowerq.round(2)}\")\n",
    "print(f\"The upper quartile of Infubinol is: {upperq.round(2)}\")\n",
    "print(f\"The interquartile range of Infubinol is: {iqr.round(2)}\")\n",
    "\n",
    "#potential outlier calculations\n",
    "lower_bound=lowerq-(1.5*iqr)\n",
    "upper_bound=upperq+(1.5*iqr)\n",
    "\n",
    "print(f\"Values below {lower_bound.round(2)} could be outliers for Infubinol\")\n",
    "print(f\"Values above {upper_bound.round(2)} could be outliers for Infubinol\")"
   ]
  },
  {
   "cell_type": "code",
   "execution_count": 24,
   "metadata": {},
   "outputs": [
    {
     "name": "stdout",
     "output_type": "stream",
     "text": [
      "The lower quartile of Ceftamin is: 48.72\n",
      "The upper quartile of Ceftamin is: 64.3\n",
      "The interquartile range of Ceftamin is: 15.58\n",
      "Values below 25.36 could be outliers for Ceftamin\n",
      "Values above 87.67 could be outliers for Ceftamin\n"
     ]
    }
   ],
   "source": [
    "#ceftamin\n",
    "ceftamin_final=ceftamin_df.groupby('Mouse ID').max()['Timepoint']\n",
    "ceftamin_vol=pd.DataFrame(ceftamin_final)\n",
    "ceftamin_merge=pd.merge(ceftamin_vol, clean_data2_df, on=(\"Mouse ID\",\"Timepoint\"),how=\"left\")\n",
    "ceftamin_merge.head()\n",
    "\n",
    "#Calculate the IQR and quantitatively determine if there are any potential outliers.\n",
    "ceftamin_TV=ceftamin_merge['Tumor Volume (mm3)']\n",
    "\n",
    "quartiles=ceftamin_TV.quantile([.25,.5,.75])\n",
    "lowerq=quartiles[0.25]\n",
    "upperq=quartiles[0.75]\n",
    "iqr=upperq-lowerq\n",
    "\n",
    "print(f\"The lower quartile of Ceftamin is: {lowerq.round(2)}\")\n",
    "print(f\"The upper quartile of Ceftamin is: {upperq.round(2)}\")\n",
    "print(f\"The interquartile range of Ceftamin is: {iqr.round(2)}\")\n",
    "\n",
    "#potential outlier calculations\n",
    "lower_bound=lowerq-(1.5*iqr)\n",
    "upper_bound=upperq+(1.5*iqr)\n",
    "\n",
    "print(f\"Values below {lower_bound.round(2)} could be outliers for Ceftamin\")\n",
    "print(f\"Values above {upper_bound.round(2)} could be outliers for Ceftamin\")"
   ]
  },
  {
   "cell_type": "code",
   "execution_count": 25,
   "metadata": {},
   "outputs": [
    {
     "data": {
      "image/png": "[encoded data removed]",
      "text/plain": [
       "<Figure size 1080x720 with 1 Axes>"
      ]
     },
     "metadata": {
      "needs_background": "light"
     },
     "output_type": "display_data"
    }
   ],
   "source": [
    "# Generate a box plot of the final tumor volume of each mouse across four regimens of interest\n",
    "regimens=[capomulin_TV,ramicane_TV,infubinol_TV,ceftamin_TV]\n",
    "labels=['Capomulin','Ramicane','Infubinol','Ceftamin']\n",
    "colors=['red','green','blue','pink']\n",
    "\n",
    "fig1, ax1 = plt.subplots(figsize=(15,10))\n",
    "ax1.set_title(\"Tumor Volume of Each Mouse Across Drug Regimens\",fontsize=22,color='blue')\n",
    "ax1.set_ylabel(\"Final Tumor Volume (mm3)\",fontsize=20,color='blue')\n",
    "ax1.set_xlabel(\"Drug Regimens\",fontsize=20,color='blue')\n",
    "\n",
    "plt.ylim(20,80)\n",
    "\n",
    "ax1.boxplot(regimens,labels=labels,widths=0.5,vert=True,patch_artist='purple')\n",
    "plt.show()\n"
   ]
  },
  {
   "cell_type": "markdown",
   "metadata": {},
   "source": [
    "## Line and Scatter Plots"
   ]
  },
  {
   "cell_type": "code",
   "execution_count": 26,
   "metadata": {},
   "outputs": [
    {
     "data": {
      "image/png": "[encoded data removed]",
      "text/plain": [
       "<Figure size 432x288 with 1 Axes>"
      ]
     },
     "metadata": {
      "needs_background": "light"
     },
     "output_type": "display_data"
    }
   ],
   "source": [
    "# Generate a line plot of time point versus tumor volume for a mouse treated with Capomulin -g316\n",
    "line_plot_df=capomulin_df.loc[capomulin_df[\"Mouse ID\"]==\"g316\",:]\n",
    "\n",
    "fig1,ax1=plt.subplots()\n",
    "\n",
    "x_axis=line_plot_df[\"Timepoint\"]\n",
    "y_axis=line_plot_df[\"Tumor Volume (mm3)\"]\n",
    "\n",
    "plt.plot(x_axis,y_axis,marker=\"s\",color=\"purple\")\n",
    "\n",
    "plt.xlabel(\"Timepoint\")\n",
    "plt.ylabel(\"Tumor Volume (mm3)\")\n",
    "plt.title(\"Timepoint vs Tumor Volume for Mouse g316 (Capomulin)\")\n",
    "\n",
    "plt.show()\n"
   ]
  },
  {
   "cell_type": "code",
   "execution_count": 27,
   "metadata": {},
   "outputs": [
    {
     "data": {
      "image/png": "[encoded data removed]",
      "text/plain": [
       "<Figure size 504x504 with 1 Axes>"
      ]
     },
     "metadata": {
      "needs_background": "light"
     },
     "output_type": "display_data"
    }
   ],
   "source": [
    "# Generate a scatter plot of mouse weight versus average tumor volume for the Capomulin regimen\n",
    "\n",
    "fig1, ax1=plt.subplots(figsize=(7,7))\n",
    "\n",
    "avg_vol=capomulin_df.groupby([\"Mouse ID\"]).mean()\n",
    "\n",
    "plt.scatter(avg_vol[\"Weight (g)\"],avg_vol[\"Tumor Volume (mm3)\"],marker='o',color=\"purple\")\n",
    "plt.xlabel(\"Weight (g)\",fontsize=15)\n",
    "plt.ylabel(\"Tumor Volume (mm3)\", fontsize=15)\n",
    "plt.title(\"Mouse Weight vs Average Tumor Volume (Capomulin)\", fontsize=17)\n",
    "\n",
    "plt.show()\n"
   ]
  },
  {
   "cell_type": "markdown",
   "metadata": {},
   "source": [
    "## Correlation and Regression"
   ]
  },
  {
   "cell_type": "code",
   "execution_count": 28,
   "metadata": {},
   "outputs": [
    {
     "name": "stdout",
     "output_type": "stream",
     "text": [
      "The correlation between mouse Weight and the average Tumor Weight using Capomulin is 0.84\n"
     ]
    }
   ],
   "source": [
    "# Calculate the correlation coefficient & linear regression model for mouse weight & Avg tumor volume for Capomulin regimen\n",
    "\n",
    "correlation=round(st.pearsonr(avg_vol['Weight (g)'],avg_vol['Tumor Volume (mm3)'])[0],2)\n",
    "print(f\"The correlation between mouse Weight and the average Tumor Weight using Capomulin is {correlation}\")"
   ]
  },
  {
   "cell_type": "code",
   "execution_count": 29,
   "metadata": {},
   "outputs": [
    {
     "name": "stdout",
     "output_type": "stream",
     "text": [
      "slope:0.95\n",
      "intercept:21.55\n",
      "rvalue (Correlation coefficient):0.84\n",
      "stderr:0.13\n",
      "y = 0.95x + 21.55\n"
     ]
    }
   ],
   "source": [
    "x_values=avg_vol['Weight (g)']\n",
    "y_values=avg_vol['Tumor Volume (mm3)']\n",
    "\n",
    "(slope, intercept,rvalue,pvalue,stderr)=linregress(x_values,y_values)\n",
    "regression_values=x_values*slope+intercept\n",
    "\n",
    "print(f\"slope:{slope.round(2)}\")\n",
    "print(f\"intercept:{intercept.round(2)}\")\n",
    "print(f\"rvalue (Correlation coefficient):{rvalue.round(2)}\")\n",
    "print(f\"stderr:{stderr.round(2)}\")\n",
    "\n",
    "line_eq=\"y = \" + str(slope.round(2))+ \"x + \" + str(intercept.round(2))\n",
    "\n",
    "print(line_eq)"
   ]
  },
  {
   "cell_type": "code",
   "execution_count": 30,
   "metadata": {},
   "outputs": [
    {
     "name": "stdout",
     "output_type": "stream",
     "text": [
      "The r-squared is: 0.7088568047708717\n"
     ]
    },
    {
     "data": {
      "image/png": "[encoded data removed]",
      "text/plain": [
       "<Figure size 504x504 with 1 Axes>"
      ]
     },
     "metadata": {
      "needs_background": "light"
     },
     "output_type": "display_data"
    }
   ],
   "source": [
    "#plotting previous scatter plot with linear regression model\n",
    "\n",
    "fig1, ax1=plt.subplots(figsize=(7,7))\n",
    "\n",
    "line_eq=\"y = \" + str(slope.round(2))+ \"x + \" + str(intercept.round(2))\n",
    "\n",
    "avg_vol=capomulin_df.groupby([\"Mouse ID\"]).mean()\n",
    "\n",
    "plt.scatter(avg_vol[\"Weight (g)\"],avg_vol[\"Tumor Volume (mm3)\"],marker='o',color=\"purple\")\n",
    "plt.plot(x_values,regression_values, \"r-\")\n",
    "plt.xlabel(\"Weight (g)\",fontsize=15)\n",
    "plt.ylabel(\"Tumor Volume (mm3)\", fontsize=15)\n",
    "plt.title(\"Mouse Weight vs Average Tumor Volume (Capomulin)\", fontsize=17)\n",
    "\n",
    "plt.annotate(line_eq,xy=(24,36),color=\"blue\",horizontalalignment='right',verticalalignment='top',fontsize=17)\n",
    "print(f\"The r-squared is: {rvalue**2}\")\n",
    "\n",
    "plt.show()\n"
   ]
  },
  {
   "cell_type": "code",
   "execution_count": null,
   "metadata": {},
   "outputs": [],
   "source": []
  }
 ],
 "metadata": {
  "anaconda-cloud": {},
  "kernelspec": {
   "display_name": "Python 3",
   "language": "python",
   "name": "python3"
  },
  "language_info": {
   "codemirror_mode": {
    "name": "ipython",
    "version": 3
   },
   "file_extension": ".py",
   "mimetype": "text/x-python",
   "name": "python",
   "nbconvert_exporter": "python",
   "pygments_lexer": "ipython3",
   "version": "3.8.5"
  }
 },
 "nbformat": 4,
 "nbformat_minor": 2
}
